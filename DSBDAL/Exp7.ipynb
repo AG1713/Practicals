{
 "cells": [
  {
   "cell_type": "markdown",
   "id": "f141285a-c4e4-43db-8e52-6b1d219bbaf8",
   "metadata": {},
   "source": [
    "1. Extract Sample document and apply following document preprocessing methods: Tokenization, POS Tagging, stop words removal, Stemming and Lemmatization.\n",
    "2. Create representation of document by calculating Term Frequency and Inverse Document Frequency."
   ]
  },
  {
   "cell_type": "code",
   "execution_count": 46,
   "id": "9c018111-428c-4fd8-a1e2-b67559435bc2",
   "metadata": {},
   "outputs": [],
   "source": [
    "import nltk\n",
    "from nltk.tokenize import TreebankWordTokenizer\n",
    "from nltk import pos_tag\n",
    "from nltk.corpus import stopwords\n",
    "from nltk.stem import PorterStemmer, WordNetLemmatizer\n",
    "from sklearn.feature_extraction.text import TfidfVectorizer"
   ]
  },
  {
   "cell_type": "code",
   "execution_count": 47,
   "id": "db9b3434-1625-4a18-94ca-2306aa1bb8b7",
   "metadata": {},
   "outputs": [
    {
     "name": "stderr",
     "output_type": "stream",
     "text": [
      "[nltk_data] Downloading package stopwords to\n",
      "[nltk_data]     C:\\Users\\Admin\\AppData\\Roaming\\nltk_data...\n",
      "[nltk_data]   Package stopwords is already up-to-date!\n",
      "[nltk_data] Downloading package wordnet to\n",
      "[nltk_data]     C:\\Users\\Admin\\AppData\\Roaming\\nltk_data...\n",
      "[nltk_data]   Package wordnet is already up-to-date!\n",
      "[nltk_data] Downloading package averaged_perceptron_tagger_eng to\n",
      "[nltk_data]     C:\\Users\\Admin\\AppData\\Roaming\\nltk_data...\n",
      "[nltk_data]   Package averaged_perceptron_tagger_eng is already up-to-\n",
      "[nltk_data]       date!\n"
     ]
    },
    {
     "data": {
      "text/plain": [
       "True"
      ]
     },
     "execution_count": 47,
     "metadata": {},
     "output_type": "execute_result"
    }
   ],
   "source": [
    "nltk.download(\"stopwords\")\n",
    "nltk.download(\"wordnet\")\n",
    "nltk.download(\"averaged_perceptron_tagger_eng\")"
   ]
  },
  {
   "cell_type": "code",
   "execution_count": 48,
   "id": "40ffb8e7-9369-4507-ab0a-506d82c5d3a3",
   "metadata": {},
   "outputs": [],
   "source": [
    "# Sample document\n",
    "document1 = \"Text analytics is the process of deriving meaningful information from natural language text.\""
   ]
  },
  {
   "cell_type": "code",
   "execution_count": 49,
   "id": "4cefdd95-fb92-4c55-b050-8020c2b40b63",
   "metadata": {},
   "outputs": [
    {
     "name": "stdout",
     "output_type": "stream",
     "text": [
      "\n",
      "Tokens:  ['Text', 'analytics', 'is', 'the', 'process', 'of', 'deriving', 'meaningful', 'information', 'from', 'natural', 'language', 'text', '.']\n"
     ]
    }
   ],
   "source": [
    "# Tokenization\n",
    "tokenizer = TreebankWordTokenizer()\n",
    "tokens1 = tokenizer.tokenize(document1)\n",
    "print(\"\\nTokens: \", tokens1)"
   ]
  },
  {
   "cell_type": "code",
   "execution_count": 50,
   "id": "cc1f1464-fb9c-48a6-b2be-8d8a8ad284c0",
   "metadata": {},
   "outputs": [
    {
     "name": "stdout",
     "output_type": "stream",
     "text": [
      "\n",
      "POS tags:  [('Text', 'NN'), ('analytics', 'NNS'), ('is', 'VBZ'), ('the', 'DT'), ('process', 'NN'), ('of', 'IN'), ('deriving', 'VBG'), ('meaningful', 'JJ'), ('information', 'NN'), ('from', 'IN'), ('natural', 'JJ'), ('language', 'NN'), ('text', 'NN'), ('.', '.')]\n"
     ]
    }
   ],
   "source": [
    "# POS (Parts Of Speech) tagging\n",
    "pos_tags1 = pos_tag(tokens1)\n",
    "print(\"\\nPOS tags: \", pos_tags1)"
   ]
  },
  {
   "cell_type": "code",
   "execution_count": 51,
   "id": "63deac23-3936-481b-b74c-d5f2eb043bd2",
   "metadata": {},
   "outputs": [
    {
     "name": "stdout",
     "output_type": "stream",
     "text": [
      "\n",
      "Filtered words (stop words removed):  ['Text', 'analytics', 'process', 'deriving', 'meaningful', 'information', 'natural', 'language', 'text', '.']\n"
     ]
    }
   ],
   "source": [
    "# Stop words removal\n",
    "stop_words = set(stopwords.words(\"english\"))\n",
    "filtered_tokens1 = [word for word in tokens if word.lower() not in stop_words]\n",
    "print(\"\\nFiltered words (stop words removed): \", filtered_tokens1)"
   ]
  },
  {
   "cell_type": "code",
   "execution_count": 52,
   "id": "e2401e2b-4d67-4d65-a612-35490bba15e7",
   "metadata": {},
   "outputs": [
    {
     "name": "stdout",
     "output_type": "stream",
     "text": [
      "\n",
      "Stemmed tokens:  ['text', 'analyt', 'process', 'deriv', 'meaning', 'inform', 'natur', 'languag', 'text', '.']\n"
     ]
    }
   ],
   "source": [
    "# Stemming\n",
    "stemmer = PorterStemmer()\n",
    "stemmed_tokens1 = [stemmer.stem(word) for word in filtered_tokens]\n",
    "print(\"\\nStemmed tokens: \", stemmed_tokens1)"
   ]
  },
  {
   "cell_type": "code",
   "execution_count": 53,
   "id": "691572dc-2117-476a-856f-ead70f5c85b9",
   "metadata": {},
   "outputs": [
    {
     "name": "stdout",
     "output_type": "stream",
     "text": [
      "\n",
      "Lemmatized tokens:  ['Text', 'analytics', 'process', 'deriving', 'meaningful', 'information', 'natural', 'language', 'text', '.']\n"
     ]
    }
   ],
   "source": [
    "# Lemmatization\n",
    "lemmatizer = WordNetLemmatizer()\n",
    "lemmatized_tokens1 = [lemmatizer.lemmatize(word) for word in filtered_tokens1]\n",
    "print(\"\\nLemmatized tokens: \", lemmatized_tokens1)"
   ]
  },
  {
   "cell_type": "code",
   "execution_count": 54,
   "id": "de403466-36b1-4d20-b1eb-8bb6833853a8",
   "metadata": {},
   "outputs": [],
   "source": [
    "# Same for another documents\n",
    "document2 = \"Natural language processing and text mining help extract useful insights from text data.\"\n",
    "document3 = \"Text analytics tools are essential for analyzing large volumes of unstructured text.\"\n",
    "\n",
    "tokens2 = tokenizer.tokenize(document2)\n",
    "tokens3 = tokenizer.tokenize(document3)\n",
    "\n",
    "pos_tags2 = pos_tag(tokens2)\n",
    "pos_tags3 = pos_tag(tokens3)\n",
    "\n",
    "filtered_tokens2 = [word for word in tokens2 if word.lower() not in stop_words]\n",
    "filtered_tokens3 = [word for word in tokens3 if word.lower() not in stop_words]\n",
    "\n",
    "lemmatized_tokens2 = [lemmatizer.lemmatize(word) for word in filtered_tokens2]\n",
    "lemmatized_tokens3 = [lemmatizer.lemmatize(word) for word in filtered_tokens3]"
   ]
  },
  {
   "cell_type": "code",
   "execution_count": 55,
   "id": "89dab566-d7f6-4025-b029-b93edd3e6c76",
   "metadata": {},
   "outputs": [
    {
     "name": "stdout",
     "output_type": "stream",
     "text": [
      "\n",
      "TF-IDF representation: \n",
      "\n",
      "TF-IDF for document 1:\n",
      "analytics : 0.2848\n",
      "deriving : 0.3745\n",
      "information : 0.3745\n",
      "language : 0.2848\n",
      "meaningful : 0.3745\n",
      "natural : 0.2848\n",
      "process : 0.3745\n",
      "text : 0.4424\n",
      "\n",
      "TF-IDF for document 2:\n",
      "data : 0.3236\n",
      "extract : 0.3236\n",
      "help : 0.3236\n",
      "insight : 0.3236\n",
      "language : 0.2461\n",
      "mining : 0.3236\n",
      "natural : 0.2461\n",
      "processing : 0.3236\n",
      "text : 0.3822\n",
      "useful : 0.3236\n",
      "\n",
      "TF-IDF for document 3:\n",
      "analytics : 0.2693\n",
      "analyzing : 0.3541\n",
      "essential : 0.3541\n",
      "large : 0.3541\n",
      "text : 0.4183\n",
      "tool : 0.3541\n",
      "unstructured : 0.3541\n",
      "volume : 0.3541\n"
     ]
    }
   ],
   "source": [
    "# Term Frequency and Inverse Document Frequency (TF-IDF)\n",
    "processed_text1 = \" \".join(lemmatized_tokens1)\n",
    "processed_text2 = \" \".join(lemmatized_tokens2)\n",
    "processed_text3 = \" \".join(lemmatized_tokens3)\n",
    "\n",
    "documents = [processed_text1, processed_text2, processed_text3]\n",
    "\n",
    "vectorizer = TfidfVectorizer()\n",
    "tfidf_matrix = vectorizer.fit_transform(documents)\n",
    "\n",
    "tfidf_feature_names = vectorizer.get_feature_names_out()\n",
    "tfidf_values = tfidf_matrix.toarray()\n",
    "\n",
    "print(\"\\nTF-IDF representation: \")\n",
    "for i, row in enumerate(tfidf_values):\n",
    "    print(f\"\\nTF-IDF for document {i+1}:\")\n",
    "    for word, score in zip(tfidf_feature_names, row):\n",
    "        if score > 0: # I have only displayed non-zero ones, you can choose to remove this and display all\n",
    "            print(word, \":\", round(score, 4))\n",
    "\n",
    "# Note: TF-IDF is a measure of how important a word is in a particular document relative to the entire corpus.\n",
    "# Thats why multiple arrays for each document"
   ]
  }
 ],
 "metadata": {
  "kernelspec": {
   "display_name": "Python (DSBDAL)",
   "language": "python",
   "name": "dsbdal_env"
  },
  "language_info": {
   "codemirror_mode": {
    "name": "ipython",
    "version": 3
   },
   "file_extension": ".py",
   "mimetype": "text/x-python",
   "name": "python",
   "nbconvert_exporter": "python",
   "pygments_lexer": "ipython3",
   "version": "3.13.1"
  }
 },
 "nbformat": 4,
 "nbformat_minor": 5
}
