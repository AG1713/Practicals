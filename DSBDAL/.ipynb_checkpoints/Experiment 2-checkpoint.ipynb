{
 "cells": [
  {
   "cell_type": "markdown",
   "id": "35ab8ed5-455a-4625-9a7f-b3e687c4ce51",
   "metadata": {},
   "source": [
    "step-1 Import Important Libraries"
   ]
  },
  {
   "cell_type": "code",
   "execution_count": 1,
   "id": "9a67733a-0ddc-4781-9965-31e0e4213709",
   "metadata": {},
   "outputs": [],
   "source": [
    "import pandas as pd\n",
    "import numpy as np"
   ]
  },
  {
   "cell_type": "markdown",
   "id": "b5965b4b-e4f3-4827-8f04-e96e744c068c",
   "metadata": {},
   "source": [
    "Step 2: Load the Dataset into Pandas DataFrame"
   ]
  },
  {
   "cell_type": "code",
   "execution_count": 2,
   "id": "b80e1e92-1a1d-4ff8-beb0-4663647e31ac",
   "metadata": {},
   "outputs": [
    {
     "data": {
      "text/html": [
       "<div>\n",
       "<style scoped>\n",
       "    .dataframe tbody tr th:only-of-type {\n",
       "        vertical-align: middle;\n",
       "    }\n",
       "\n",
       "    .dataframe tbody tr th {\n",
       "        vertical-align: top;\n",
       "    }\n",
       "\n",
       "    .dataframe thead th {\n",
       "        text-align: right;\n",
       "    }\n",
       "</style>\n",
       "<table border=\"1\" class=\"dataframe\">\n",
       "  <thead>\n",
       "    <tr style=\"text-align: right;\">\n",
       "      <th></th>\n",
       "      <th>Student_ID</th>\n",
       "      <th>Math_Score</th>\n",
       "      <th>English_Score</th>\n",
       "      <th>Study_Hours</th>\n",
       "    </tr>\n",
       "  </thead>\n",
       "  <tbody>\n",
       "    <tr>\n",
       "      <th>0</th>\n",
       "      <td>101</td>\n",
       "      <td>78.0</td>\n",
       "      <td>88.0</td>\n",
       "      <td>5</td>\n",
       "    </tr>\n",
       "    <tr>\n",
       "      <th>1</th>\n",
       "      <td>102</td>\n",
       "      <td>85.0</td>\n",
       "      <td>76.0</td>\n",
       "      <td>3</td>\n",
       "    </tr>\n",
       "    <tr>\n",
       "      <th>2</th>\n",
       "      <td>103</td>\n",
       "      <td>96.0</td>\n",
       "      <td>NaN</td>\n",
       "      <td>6</td>\n",
       "    </tr>\n",
       "    <tr>\n",
       "      <th>3</th>\n",
       "      <td>104</td>\n",
       "      <td>45.0</td>\n",
       "      <td>67.0</td>\n",
       "      <td>2</td>\n",
       "    </tr>\n",
       "    <tr>\n",
       "      <th>4</th>\n",
       "      <td>105</td>\n",
       "      <td>66.0</td>\n",
       "      <td>59.0</td>\n",
       "      <td>4</td>\n",
       "    </tr>\n",
       "  </tbody>\n",
       "</table>\n",
       "</div>"
      ],
      "text/plain": [
       "   Student_ID  Math_Score  English_Score  Study_Hours\n",
       "0         101        78.0           88.0            5\n",
       "1         102        85.0           76.0            3\n",
       "2         103        96.0            NaN            6\n",
       "3         104        45.0           67.0            2\n",
       "4         105        66.0           59.0            4"
      ]
     },
     "execution_count": 2,
     "metadata": {},
     "output_type": "execute_result"
    }
   ],
   "source": [
    "df = pd.read_csv(\"academic_performance.csv\")\n",
    "df.head()"
   ]
  },
  {
   "cell_type": "code",
   "execution_count": 3,
   "id": "14b6c016-a6f6-47e2-8016-a4d9df1c0f7e",
   "metadata": {},
   "outputs": [
    {
     "data": {
      "text/plain": [
       "Student_ID       0\n",
       "Math_Score       1\n",
       "English_Score    2\n",
       "Study_Hours      0\n",
       "dtype: int64"
      ]
     },
     "execution_count": 3,
     "metadata": {},
     "output_type": "execute_result"
    }
   ],
   "source": [
    "df.isnull().sum()"
   ]
  },
  {
   "cell_type": "code",
   "execution_count": 5,
   "id": "dbb2250e-3bf7-44e7-bcf6-17e1f38ba958",
   "metadata": {},
   "outputs": [],
   "source": [
    "df['Math_Score'] = df['Math_Score'].fillna(df['Math_Score'].mean())\n",
    "df['English_Score'] = df['English_Score'].fillna(df['English_Score'].mean())"
   ]
  },
  {
   "cell_type": "markdown",
   "id": "48938b4f-1d0f-4009-8ace-c62dae4b7910",
   "metadata": {},
   "source": [
    "Step 3: Scan for Outliers"
   ]
  },
  {
   "cell_type": "code",
   "execution_count": 6,
   "id": "028cca70-af2b-47dc-abe6-ed80237aafc3",
   "metadata": {},
   "outputs": [
    {
     "data": {
      "text/html": [
       "<div>\n",
       "<style scoped>\n",
       "    .dataframe tbody tr th:only-of-type {\n",
       "        vertical-align: middle;\n",
       "    }\n",
       "\n",
       "    .dataframe tbody tr th {\n",
       "        vertical-align: top;\n",
       "    }\n",
       "\n",
       "    .dataframe thead th {\n",
       "        text-align: right;\n",
       "    }\n",
       "</style>\n",
       "<table border=\"1\" class=\"dataframe\">\n",
       "  <thead>\n",
       "    <tr style=\"text-align: right;\">\n",
       "      <th></th>\n",
       "      <th>Student_ID</th>\n",
       "      <th>Math_Score</th>\n",
       "      <th>English_Score</th>\n",
       "      <th>Study_Hours</th>\n",
       "    </tr>\n",
       "  </thead>\n",
       "  <tbody>\n",
       "    <tr>\n",
       "      <th>7</th>\n",
       "      <td>108</td>\n",
       "      <td>101.0</td>\n",
       "      <td>94.0</td>\n",
       "      <td>100</td>\n",
       "    </tr>\n",
       "    <tr>\n",
       "      <th>28</th>\n",
       "      <td>129</td>\n",
       "      <td>89.0</td>\n",
       "      <td>90.0</td>\n",
       "      <td>110</td>\n",
       "    </tr>\n",
       "  </tbody>\n",
       "</table>\n",
       "</div>"
      ],
      "text/plain": [
       "    Student_ID  Math_Score  English_Score  Study_Hours\n",
       "7          108       101.0           94.0          100\n",
       "28         129        89.0           90.0          110"
      ]
     },
     "execution_count": 6,
     "metadata": {},
     "output_type": "execute_result"
    }
   ],
   "source": [
    "Q1 = df['Study_Hours'].quantile(0.25)\n",
    "Q3 = df['Study_Hours'].quantile(0.75)\n",
    "IQR = Q3 - Q1\n",
    "lower_bound = Q1 - 1.5 * IQR\n",
    "upper_bound = Q3 + 1.5 * IQR\n",
    "\n",
    "outliers = df[(df['Study_Hours'] < lower_bound) | (df['Study_Hours'] > upper_bound)]\n",
    "outliers"
   ]
  },
  {
   "cell_type": "markdown",
   "id": "06974290-ea1f-414e-b20c-0e1f082e93fb",
   "metadata": {},
   "source": [
    " Step 4: Apply Data Transformation"
   ]
  },
  {
   "cell_type": "code",
   "execution_count": 7,
   "id": "062d32fc-e110-4379-8002-20513fb90262",
   "metadata": {},
   "outputs": [],
   "source": [
    "df['Log_Study_Hours'] = np.log1p(df['Study_Hours'])  # log1p handles 0 safely"
   ]
  },
  {
   "cell_type": "code",
   "execution_count": 8,
   "id": "3e8fc4d7-93ec-4a5a-b5c2-9dcca70fa447",
   "metadata": {},
   "outputs": [],
   "source": [
    "df['Log_Study_Hours'] = np.log1p(df['Study_Hours'])  # log1p handles 0 safely"
   ]
  },
  {
   "cell_type": "markdown",
   "id": "381b3f61-92bc-462a-a6be-0bcbc9a22c65",
   "metadata": {},
   "source": [
    "Final Output :-"
   ]
  },
  {
   "cell_type": "code",
   "execution_count": 9,
   "id": "ff86f193-f29c-42c7-b8e1-41895b651e34",
   "metadata": {},
   "outputs": [
    {
     "name": "stdout",
     "output_type": "stream",
     "text": [
      "    Student_ID  Math_Score  English_Score  Study_Hours  Log_Study_Hours\n",
      "0          101   78.000000      88.000000            5         1.791759\n",
      "1          102   85.000000      76.000000            3         1.386294\n",
      "2          103   96.000000      77.392857            6         1.945910\n",
      "3          104   45.000000      67.000000            2         1.098612\n",
      "4          105   66.000000      59.000000            4         1.609438\n",
      "5          106   77.551724      85.000000            5         1.791759\n",
      "6          107   89.000000      92.000000            6         1.945910\n",
      "7          108  101.000000      94.000000          100         4.615121\n",
      "8          109   72.000000     120.000000            3         1.386294\n",
      "9          110   65.000000      72.000000            4         1.609438\n",
      "10         111   88.000000      90.000000            5         1.791759\n",
      "11         112   79.000000      65.000000            2         1.098612\n",
      "12         113   91.000000      87.000000            3         1.386294\n",
      "13         114   55.000000      66.000000            4         1.609438\n",
      "14         115   62.000000      70.000000            4         1.609438\n",
      "15         116   58.000000      60.000000            3         1.386294\n",
      "16         117   84.000000      77.392857            2         1.098612\n",
      "17         118   90.000000      77.000000            4         1.609438\n",
      "18         119  100.000000      89.000000            6         1.945910\n",
      "19         120   87.000000      81.000000            5         1.791759\n",
      "20         121   61.000000      60.000000            3         1.386294\n",
      "21         122   49.000000      55.000000            2         1.098612\n",
      "22         123   70.000000      63.000000            3         1.386294\n",
      "23         124   95.000000      92.000000            6         1.945910\n",
      "24         125   67.000000      59.000000            4         1.609438\n",
      "25         126   73.000000      65.000000            2         1.098612\n",
      "26         127   68.000000      66.000000            3         1.386294\n",
      "27         128   94.000000      84.000000            5         1.791759\n",
      "28         129   89.000000      90.000000          110         4.709530\n",
      "29         130   92.000000      95.000000            4         1.609438\n"
     ]
    }
   ],
   "source": [
    "print(df)"
   ]
  }
 ],
 "metadata": {
  "kernelspec": {
   "display_name": "Python 3 (ipykernel)",
   "language": "python",
   "name": "python3"
  },
  "language_info": {
   "codemirror_mode": {
    "name": "ipython",
    "version": 3
   },
   "file_extension": ".py",
   "mimetype": "text/x-python",
   "name": "python",
   "nbconvert_exporter": "python",
   "pygments_lexer": "ipython3",
   "version": "3.12.3"
  }
 },
 "nbformat": 4,
 "nbformat_minor": 5
}
