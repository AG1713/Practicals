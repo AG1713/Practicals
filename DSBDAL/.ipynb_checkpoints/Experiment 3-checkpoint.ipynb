{
 "cells": [
  {
   "cell_type": "markdown",
   "id": "20681e73-8fb2-453d-bc8e-4a6ef9803ca2",
   "metadata": {},
   "source": [
    "Step 1: Import Required Libraries"
   ]
  },
  {
   "cell_type": "code",
   "execution_count": 2,
   "id": "3c581250-3780-4aae-ac6f-eb0df66ceda5",
   "metadata": {},
   "outputs": [],
   "source": [
    "import pandas as pd"
   ]
  },
  {
   "cell_type": "code",
   "execution_count": null,
   "id": "26cc5c98-5ea1-4d44-a1d1-52d8b37c1fb5",
   "metadata": {},
   "outputs": [],
   "source": [
    "Step 2: Load the Dataset"
   ]
  },
  {
   "cell_type": "code",
   "execution_count": 3,
   "id": "a7454a21-8a9f-4206-a426-494deba7ae86",
   "metadata": {},
   "outputs": [
    {
     "name": "stdout",
     "output_type": "stream",
     "text": [
      "   sepal_length  sepal_width  petal_length  petal_width species\n",
      "0           5.1          3.5           1.4          0.2  setosa\n",
      "1           4.9          3.0           1.4          0.2  setosa\n",
      "2           4.7          3.2           1.3          0.2  setosa\n",
      "3           4.6          3.1           1.5          0.2  setosa\n",
      "4           5.0          3.6           1.4          0.2  setosa\n"
     ]
    }
   ],
   "source": [
    "df = pd.read_csv(\"https://raw.githubusercontent.com/mwaskom/seaborn-data/master/iris.csv\")\n",
    "print(df.head())  # Preview the first few rows"
   ]
  },
  {
   "cell_type": "markdown",
   "id": "68cd4386-3e91-40b0-a69d-3593e6f4b690",
   "metadata": {},
   "source": [
    "Step 3: Group by Categorical Variable (species) and Show Summary Statistics"
   ]
  },
  {
   "cell_type": "code",
   "execution_count": 4,
   "id": "af0ce1a4-ce91-4d17-ba41-6b43a1cc7ef8",
   "metadata": {},
   "outputs": [
    {
     "name": "stdout",
     "output_type": "stream",
     "text": [
      "Summary statistics grouped by species:\n",
      "\n",
      "           sepal_length                            sepal_width              \\\n",
      "                   mean median  min  max       std        mean median  min   \n",
      "species                                                                      \n",
      "setosa            5.006    5.0  4.3  5.8  0.352490       3.428    3.4  2.3   \n",
      "versicolor        5.936    5.9  4.9  7.0  0.516171       2.770    2.8  2.0   \n",
      "virginica         6.588    6.5  4.9  7.9  0.635880       2.974    3.0  2.2   \n",
      "\n",
      "                          petal_length                            petal_width  \\\n",
      "            max       std         mean median  min  max       std        mean   \n",
      "species                                                                         \n",
      "setosa      4.4  0.379064        1.462   1.50  1.0  1.9  0.173664       0.246   \n",
      "versicolor  3.4  0.313798        4.260   4.35  3.0  5.1  0.469911       1.326   \n",
      "virginica   3.8  0.322497        5.552   5.55  4.5  6.9  0.551895       2.026   \n",
      "\n",
      "                                       \n",
      "           median  min  max       std  \n",
      "species                                \n",
      "setosa        0.2  0.1  0.6  0.105386  \n",
      "versicolor    1.3  1.0  1.8  0.197753  \n",
      "virginica     2.0  1.4  2.5  0.274650  \n"
     ]
    }
   ],
   "source": [
    "# Group by species and calculate mean, median, min, max, std\n",
    "grouped_summary = df.groupby('species').agg(['mean', 'median', 'min', 'max', 'std'])\n",
    "print(\"Summary statistics grouped by species:\\n\")\n",
    "print(grouped_summary)"
   ]
  },
  {
   "cell_type": "markdown",
   "id": "2e9edca2-28b9-47bc-bdcf-7e873534b571",
   "metadata": {},
   "source": [
    "Step 6: Get Descriptive Statistics for Each Species Separately"
   ]
  },
  {
   "cell_type": "code",
   "execution_count": 5,
   "id": "716baf11-2625-4064-b134-bc6a7a5f7459",
   "metadata": {},
   "outputs": [
    {
     "name": "stdout",
     "output_type": "stream",
     "text": [
      "\n",
      "Setosa Statistics:\n",
      "        sepal_length  sepal_width  petal_length  petal_width\n",
      "count      50.00000    50.000000     50.000000    50.000000\n",
      "mean        5.00600     3.428000      1.462000     0.246000\n",
      "std         0.35249     0.379064      0.173664     0.105386\n",
      "min         4.30000     2.300000      1.000000     0.100000\n",
      "25%         4.80000     3.200000      1.400000     0.200000\n",
      "50%         5.00000     3.400000      1.500000     0.200000\n",
      "75%         5.20000     3.675000      1.575000     0.300000\n",
      "max         5.80000     4.400000      1.900000     0.600000\n",
      "\n",
      "Versicolor Statistics:\n",
      "        sepal_length  sepal_width  petal_length  petal_width\n",
      "count     50.000000    50.000000     50.000000    50.000000\n",
      "mean       5.936000     2.770000      4.260000     1.326000\n",
      "std        0.516171     0.313798      0.469911     0.197753\n",
      "min        4.900000     2.000000      3.000000     1.000000\n",
      "25%        5.600000     2.525000      4.000000     1.200000\n",
      "50%        5.900000     2.800000      4.350000     1.300000\n",
      "75%        6.300000     3.000000      4.600000     1.500000\n",
      "max        7.000000     3.400000      5.100000     1.800000\n",
      "\n",
      "Virginica Statistics:\n",
      "        sepal_length  sepal_width  petal_length  petal_width\n",
      "count      50.00000    50.000000     50.000000     50.00000\n",
      "mean        6.58800     2.974000      5.552000      2.02600\n",
      "std         0.63588     0.322497      0.551895      0.27465\n",
      "min         4.90000     2.200000      4.500000      1.40000\n",
      "25%         6.22500     2.800000      5.100000      1.80000\n",
      "50%         6.50000     3.000000      5.550000      2.00000\n",
      "75%         6.90000     3.175000      5.875000      2.30000\n",
      "max         7.90000     3.800000      6.900000      2.50000\n"
     ]
    }
   ],
   "source": [
    "# Descriptive statistics for Setosa\n",
    "setosa_stats = df[df['species'] == 'setosa'].describe()\n",
    "print(\"\\nSetosa Statistics:\\n\", setosa_stats)\n",
    "\n",
    "# Descriptive statistics for Versicolor\n",
    "versicolor_stats = df[df['species'] == 'versicolor'].describe()\n",
    "print(\"\\nVersicolor Statistics:\\n\", versicolor_stats)\n",
    "\n",
    "# Descriptive statistics for Virginica\n",
    "virginica_stats = df[df['species'] == 'virginica'].describe()\n",
    "print(\"\\nVirginica Statistics:\\n\", virginica_stats)"
   ]
  },
  {
   "cell_type": "code",
   "execution_count": null,
   "id": "6e5f266a-9881-484e-8a99-6e210d8214e2",
   "metadata": {},
   "outputs": [],
   "source": []
  }
 ],
 "metadata": {
  "kernelspec": {
   "display_name": "Python 3 (ipykernel)",
   "language": "python",
   "name": "python3"
  },
  "language_info": {
   "codemirror_mode": {
    "name": "ipython",
    "version": 3
   },
   "file_extension": ".py",
   "mimetype": "text/x-python",
   "name": "python",
   "nbconvert_exporter": "python",
   "pygments_lexer": "ipython3",
   "version": "3.12.3"
  }
 },
 "nbformat": 4,
 "nbformat_minor": 5
}
