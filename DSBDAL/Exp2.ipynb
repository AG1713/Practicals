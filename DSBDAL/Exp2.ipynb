{
 "cells": [
  {
   "cell_type": "markdown",
   "id": "7ba0c741-4979-400a-8a3d-b488f52bfc46",
   "metadata": {},
   "source": [
    "Create an “Academic performance” dataset of students and perform the following operations using Python.\n",
    "1. Scan all variables for missing values and inconsistencies. If there are missing values and/or inconsistencies, use any of the suitable techniques to deal with them.\n",
    "2. Scan all numeric variables for outliers. If there are outliers, use any of the suitable techniques to deal with them.\n",
    "3. Apply data transformations on at least one of the variables. The purpose of this transformation should be one of the following reasons: to change the scale for better understanding of the variable, to convert a non-linear relation into a linear one, or to decrease the skewness and convert the distribution into a normal distribution.\n",
    "Reason and document your approach properly."
   ]
  },
  {
   "cell_type": "code",
   "execution_count": 1,
   "id": "2efda308-7256-4a4a-9402-8239fb49a483",
   "metadata": {},
   "outputs": [],
   "source": [
    "import pandas as pd\n",
    "import numpy as np"
   ]
  },
  {
   "cell_type": "code",
   "execution_count": 2,
   "id": "bc18333d-6bb9-4b28-a5d6-7300566bda0c",
   "metadata": {},
   "outputs": [
    {
     "data": {
      "text/html": [
       "<div>\n",
       "<style scoped>\n",
       "    .dataframe tbody tr th:only-of-type {\n",
       "        vertical-align: middle;\n",
       "    }\n",
       "\n",
       "    .dataframe tbody tr th {\n",
       "        vertical-align: top;\n",
       "    }\n",
       "\n",
       "    .dataframe thead th {\n",
       "        text-align: right;\n",
       "    }\n",
       "</style>\n",
       "<table border=\"1\" class=\"dataframe\">\n",
       "  <thead>\n",
       "    <tr style=\"text-align: right;\">\n",
       "      <th></th>\n",
       "      <th>Student_ID</th>\n",
       "      <th>Math_Score</th>\n",
       "      <th>English_Score</th>\n",
       "      <th>Study_Hours</th>\n",
       "    </tr>\n",
       "  </thead>\n",
       "  <tbody>\n",
       "    <tr>\n",
       "      <th>0</th>\n",
       "      <td>101</td>\n",
       "      <td>78.0</td>\n",
       "      <td>88.0</td>\n",
       "      <td>5</td>\n",
       "    </tr>\n",
       "    <tr>\n",
       "      <th>1</th>\n",
       "      <td>102</td>\n",
       "      <td>85.0</td>\n",
       "      <td>76.0</td>\n",
       "      <td>3</td>\n",
       "    </tr>\n",
       "    <tr>\n",
       "      <th>2</th>\n",
       "      <td>103</td>\n",
       "      <td>96.0</td>\n",
       "      <td>NaN</td>\n",
       "      <td>6</td>\n",
       "    </tr>\n",
       "    <tr>\n",
       "      <th>3</th>\n",
       "      <td>104</td>\n",
       "      <td>45.0</td>\n",
       "      <td>67.0</td>\n",
       "      <td>2</td>\n",
       "    </tr>\n",
       "    <tr>\n",
       "      <th>4</th>\n",
       "      <td>105</td>\n",
       "      <td>66.0</td>\n",
       "      <td>59.0</td>\n",
       "      <td>4</td>\n",
       "    </tr>\n",
       "  </tbody>\n",
       "</table>\n",
       "</div>"
      ],
      "text/plain": [
       "   Student_ID  Math_Score  English_Score  Study_Hours\n",
       "0         101        78.0           88.0            5\n",
       "1         102        85.0           76.0            3\n",
       "2         103        96.0            NaN            6\n",
       "3         104        45.0           67.0            2\n",
       "4         105        66.0           59.0            4"
      ]
     },
     "execution_count": 2,
     "metadata": {},
     "output_type": "execute_result"
    }
   ],
   "source": [
    "df = pd.read_csv(\"academic_performance.csv\")\n",
    "df.head()"
   ]
  },
  {
   "cell_type": "code",
   "execution_count": 3,
   "id": "c2a9c827-c1d4-49c7-9134-47b1b31453d0",
   "metadata": {},
   "outputs": [
    {
     "data": {
      "text/plain": [
       "Student_ID       0\n",
       "Math_Score       1\n",
       "English_Score    2\n",
       "Study_Hours      0\n",
       "dtype: int64"
      ]
     },
     "execution_count": 3,
     "metadata": {},
     "output_type": "execute_result"
    }
   ],
   "source": [
    "df.isnull().sum()"
   ]
  },
  {
   "cell_type": "code",
   "execution_count": 4,
   "id": "74aa5eff-d46e-40ba-ad6d-69f81c62d572",
   "metadata": {},
   "outputs": [
    {
     "name": "stdout",
     "output_type": "stream",
     "text": [
      "Null values in df1: \n"
     ]
    },
    {
     "data": {
      "text/plain": [
       "Student_ID       0\n",
       "Math_Score       0\n",
       "English_Score    0\n",
       "Study_Hours      0\n",
       "dtype: int64"
      ]
     },
     "metadata": {},
     "output_type": "display_data"
    },
    {
     "data": {
      "text/plain": [
       "(30, 4)"
      ]
     },
     "metadata": {},
     "output_type": "display_data"
    },
    {
     "name": "stdout",
     "output_type": "stream",
     "text": [
      "\n",
      "Null values in df2: \n"
     ]
    },
    {
     "data": {
      "text/plain": [
       "Student_ID       0\n",
       "Math_Score       0\n",
       "English_Score    0\n",
       "Study_Hours      0\n",
       "dtype: int64"
      ]
     },
     "metadata": {},
     "output_type": "display_data"
    },
    {
     "data": {
      "text/plain": [
       "(30, 4)"
      ]
     },
     "metadata": {},
     "output_type": "display_data"
    }
   ],
   "source": [
    "# .copy() - Makes a shallow copy of the dataframe. If a variable is directly assigned a dataframe,\n",
    "#           then any changes in the new dataframe variable will change the original dataframe too (implying passs by reference)\n",
    "df1 = df.copy()\n",
    "df1[\"Math_Score\"] = df[\"Math_Score\"].fillna(df[\"Math_Score\"].mean())\n",
    "df1[\"English_Score\"] = df[\"English_Score\"].fillna(value=df[\"English_Score\"].mean())\n",
    "print(\"Null values in df1: \")\n",
    "display(df1.isnull().sum())\n",
    "display(df1.shape)\n",
    "\n",
    "# Other ways of removing null values\n",
    "df2 = df.copy()\n",
    "# df2 = df2.dropna() # or with paramter axis=1, we can directly remove columns which may have null values\n",
    "df2 = df2.replace(to_replace=np.nan, value=0)\n",
    "print(\"\\nNull values in df2: \")\n",
    "display(df2.isnull().sum())\n",
    "display(df2.shape)"
   ]
  },
  {
   "cell_type": "code",
   "execution_count": 5,
   "id": "733c577a-0e32-467b-b2ea-231c49be1b0b",
   "metadata": {},
   "outputs": [
    {
     "data": {
      "image/png": "[encoded data removed]",
      "text/plain": [
       "<Figure size 640x480 with 1 Axes>"
      ]
     },
     "metadata": {},
     "output_type": "display_data"
    },
    {
     "name": "stdout",
     "output_type": "stream",
     "text": [
      "\n",
      "Outliers: \n"
     ]
    },
    {
     "data": {
      "text/html": [
       "<div>\n",
       "<style scoped>\n",
       "    .dataframe tbody tr th:only-of-type {\n",
       "        vertical-align: middle;\n",
       "    }\n",
       "\n",
       "    .dataframe tbody tr th {\n",
       "        vertical-align: top;\n",
       "    }\n",
       "\n",
       "    .dataframe thead th {\n",
       "        text-align: right;\n",
       "    }\n",
       "</style>\n",
       "<table border=\"1\" class=\"dataframe\">\n",
       "  <thead>\n",
       "    <tr style=\"text-align: right;\">\n",
       "      <th></th>\n",
       "      <th>Student_ID</th>\n",
       "      <th>Math_Score</th>\n",
       "      <th>English_Score</th>\n",
       "      <th>Study_Hours</th>\n",
       "    </tr>\n",
       "  </thead>\n",
       "  <tbody>\n",
       "    <tr>\n",
       "      <th>7</th>\n",
       "      <td>108</td>\n",
       "      <td>101.0</td>\n",
       "      <td>94.0</td>\n",
       "      <td>100</td>\n",
       "    </tr>\n",
       "    <tr>\n",
       "      <th>28</th>\n",
       "      <td>129</td>\n",
       "      <td>89.0</td>\n",
       "      <td>90.0</td>\n",
       "      <td>110</td>\n",
       "    </tr>\n",
       "  </tbody>\n",
       "</table>\n",
       "</div>"
      ],
      "text/plain": [
       "    Student_ID  Math_Score  English_Score  Study_Hours\n",
       "7          108       101.0           94.0          100\n",
       "28         129        89.0           90.0          110"
      ]
     },
     "metadata": {},
     "output_type": "display_data"
    },
    {
     "name": "stdout",
     "output_type": "stream",
     "text": [
      "\n",
      "New df: \n"
     ]
    },
    {
     "data": {
      "image/png": "[encoded data removed]",
      "text/plain": [
       "<Figure size 640x480 with 1 Axes>"
      ]
     },
     "metadata": {},
     "output_type": "display_data"
    }
   ],
   "source": [
    "# Removing outliers using boxplot\n",
    "import matplotlib.pyplot as plt\n",
    "\n",
    "df1.boxplot()\n",
    "# df1[[\"Study_Hours\"]].boxplot()\n",
    "plt.show()\n",
    "\n",
    "outliers = df1[df1[\"Study_Hours\"] > 20]\n",
    "print(\"\\nOutliers: \")\n",
    "display(outliers)\n",
    "\n",
    "print(\"\\nNew df: \")\n",
    "new_df = df1.copy()\n",
    "new_df = new_df[new_df[\"Study_Hours\"] < 20]\n",
    "new_df.boxplot()\n",
    "plt.show()"
   ]
  },
  {
   "cell_type": "code",
   "execution_count": 6,
   "id": "207444e5-58c8-4616-8377-93f338c7110c",
   "metadata": {},
   "outputs": [
    {
     "data": {
      "image/png": "[encoded data removed]",
      "text/plain": [
       "<Figure size 640x480 with 1 Axes>"
      ]
     },
     "metadata": {},
     "output_type": "display_data"
    },
    {
     "name": "stdout",
     "output_type": "stream",
     "text": [
      "\n",
      "Outliers: \n"
     ]
    },
    {
     "data": {
      "text/html": [
       "<div>\n",
       "<style scoped>\n",
       "    .dataframe tbody tr th:only-of-type {\n",
       "        vertical-align: middle;\n",
       "    }\n",
       "\n",
       "    .dataframe tbody tr th {\n",
       "        vertical-align: top;\n",
       "    }\n",
       "\n",
       "    .dataframe thead th {\n",
       "        text-align: right;\n",
       "    }\n",
       "</style>\n",
       "<table border=\"1\" class=\"dataframe\">\n",
       "  <thead>\n",
       "    <tr style=\"text-align: right;\">\n",
       "      <th></th>\n",
       "      <th>Student_ID</th>\n",
       "      <th>Math_Score</th>\n",
       "      <th>English_Score</th>\n",
       "      <th>Study_Hours</th>\n",
       "    </tr>\n",
       "  </thead>\n",
       "  <tbody>\n",
       "    <tr>\n",
       "      <th>7</th>\n",
       "      <td>108</td>\n",
       "      <td>101.0</td>\n",
       "      <td>94.0</td>\n",
       "      <td>100</td>\n",
       "    </tr>\n",
       "    <tr>\n",
       "      <th>28</th>\n",
       "      <td>129</td>\n",
       "      <td>89.0</td>\n",
       "      <td>90.0</td>\n",
       "      <td>110</td>\n",
       "    </tr>\n",
       "  </tbody>\n",
       "</table>\n",
       "</div>"
      ],
      "text/plain": [
       "    Student_ID  Math_Score  English_Score  Study_Hours\n",
       "7          108       101.0           94.0          100\n",
       "28         129        89.0           90.0          110"
      ]
     },
     "metadata": {},
     "output_type": "display_data"
    },
    {
     "name": "stdout",
     "output_type": "stream",
     "text": [
      "\n",
      "New df: \n"
     ]
    },
    {
     "data": {
      "image/png": "[encoded data removed]",
      "text/plain": [
       "<Figure size 640x480 with 1 Axes>"
      ]
     },
     "metadata": {},
     "output_type": "display_data"
    }
   ],
   "source": [
    "# Removing outliers using Inter Quartile Range (IQR)\n",
    "import matplotlib.pyplot as plt\n",
    "\n",
    "df1.boxplot()\n",
    "plt.show()\n",
    "\n",
    "Q1 = df1[\"Study_Hours\"].quantile(0.25)\n",
    "Q3 = df1[\"Study_Hours\"].quantile(0.75)\n",
    "IQR = Q3-Q1\n",
    "lower_bound = Q1 - 1.5*IQR\n",
    "upper_bound = Q3 + 1.5*IQR\n",
    "\n",
    "outliers = df1[(df1[\"Study_Hours\"] < lower_bound) | (df1[\"Study_Hours\"] > upper_bound)]\n",
    "print(\"\\nOutliers: \")\n",
    "display(outliers)\n",
    "\n",
    "print(\"\\nNew df: \")\n",
    "new_df = df1.copy()\n",
    "new_df = new_df[(new_df[\"Study_Hours\"] > lower_bound) & (new_df[\"Study_Hours\"] < upper_bound)]\n",
    "new_df.boxplot()\n",
    "plt.show()"
   ]
  },
  {
   "cell_type": "code",
   "execution_count": 7,
   "id": "c404f1df-2082-4942-a580-ae160553d620",
   "metadata": {},
   "outputs": [
    {
     "name": "stdout",
     "output_type": "stream",
     "text": [
      "Logarithmic Normalization\n"
     ]
    },
    {
     "data": {
      "text/html": [
       "<div>\n",
       "<style scoped>\n",
       "    .dataframe tbody tr th:only-of-type {\n",
       "        vertical-align: middle;\n",
       "    }\n",
       "\n",
       "    .dataframe tbody tr th {\n",
       "        vertical-align: top;\n",
       "    }\n",
       "\n",
       "    .dataframe thead th {\n",
       "        text-align: right;\n",
       "    }\n",
       "</style>\n",
       "<table border=\"1\" class=\"dataframe\">\n",
       "  <thead>\n",
       "    <tr style=\"text-align: right;\">\n",
       "      <th></th>\n",
       "      <th>Student_ID</th>\n",
       "      <th>Math_Score</th>\n",
       "      <th>English_Score</th>\n",
       "      <th>Study_Hours</th>\n",
       "    </tr>\n",
       "  </thead>\n",
       "  <tbody>\n",
       "    <tr>\n",
       "      <th>0</th>\n",
       "      <td>101</td>\n",
       "      <td>4.369448</td>\n",
       "      <td>4.488636</td>\n",
       "      <td>1.791759</td>\n",
       "    </tr>\n",
       "    <tr>\n",
       "      <th>1</th>\n",
       "      <td>102</td>\n",
       "      <td>4.454347</td>\n",
       "      <td>4.343805</td>\n",
       "      <td>1.386294</td>\n",
       "    </tr>\n",
       "    <tr>\n",
       "      <th>2</th>\n",
       "      <td>103</td>\n",
       "      <td>4.574711</td>\n",
       "      <td>4.361733</td>\n",
       "      <td>1.945910</td>\n",
       "    </tr>\n",
       "    <tr>\n",
       "      <th>3</th>\n",
       "      <td>104</td>\n",
       "      <td>3.828641</td>\n",
       "      <td>4.219508</td>\n",
       "      <td>1.098612</td>\n",
       "    </tr>\n",
       "    <tr>\n",
       "      <th>4</th>\n",
       "      <td>105</td>\n",
       "      <td>4.204693</td>\n",
       "      <td>4.094345</td>\n",
       "      <td>1.609438</td>\n",
       "    </tr>\n",
       "    <tr>\n",
       "      <th>5</th>\n",
       "      <td>106</td>\n",
       "      <td>4.363757</td>\n",
       "      <td>4.454347</td>\n",
       "      <td>1.791759</td>\n",
       "    </tr>\n",
       "    <tr>\n",
       "      <th>6</th>\n",
       "      <td>107</td>\n",
       "      <td>4.499810</td>\n",
       "      <td>4.532599</td>\n",
       "      <td>1.945910</td>\n",
       "    </tr>\n",
       "    <tr>\n",
       "      <th>8</th>\n",
       "      <td>109</td>\n",
       "      <td>4.290459</td>\n",
       "      <td>4.795791</td>\n",
       "      <td>1.386294</td>\n",
       "    </tr>\n",
       "    <tr>\n",
       "      <th>9</th>\n",
       "      <td>110</td>\n",
       "      <td>4.189655</td>\n",
       "      <td>4.290459</td>\n",
       "      <td>1.609438</td>\n",
       "    </tr>\n",
       "    <tr>\n",
       "      <th>10</th>\n",
       "      <td>111</td>\n",
       "      <td>4.488636</td>\n",
       "      <td>4.510860</td>\n",
       "      <td>1.791759</td>\n",
       "    </tr>\n",
       "    <tr>\n",
       "      <th>11</th>\n",
       "      <td>112</td>\n",
       "      <td>4.382027</td>\n",
       "      <td>4.189655</td>\n",
       "      <td>1.098612</td>\n",
       "    </tr>\n",
       "    <tr>\n",
       "      <th>12</th>\n",
       "      <td>113</td>\n",
       "      <td>4.521789</td>\n",
       "      <td>4.477337</td>\n",
       "      <td>1.386294</td>\n",
       "    </tr>\n",
       "    <tr>\n",
       "      <th>13</th>\n",
       "      <td>114</td>\n",
       "      <td>4.025352</td>\n",
       "      <td>4.204693</td>\n",
       "      <td>1.609438</td>\n",
       "    </tr>\n",
       "    <tr>\n",
       "      <th>14</th>\n",
       "      <td>115</td>\n",
       "      <td>4.143135</td>\n",
       "      <td>4.262680</td>\n",
       "      <td>1.609438</td>\n",
       "    </tr>\n",
       "    <tr>\n",
       "      <th>15</th>\n",
       "      <td>116</td>\n",
       "      <td>4.077537</td>\n",
       "      <td>4.110874</td>\n",
       "      <td>1.386294</td>\n",
       "    </tr>\n",
       "    <tr>\n",
       "      <th>16</th>\n",
       "      <td>117</td>\n",
       "      <td>4.442651</td>\n",
       "      <td>4.361733</td>\n",
       "      <td>1.098612</td>\n",
       "    </tr>\n",
       "    <tr>\n",
       "      <th>17</th>\n",
       "      <td>118</td>\n",
       "      <td>4.510860</td>\n",
       "      <td>4.356709</td>\n",
       "      <td>1.609438</td>\n",
       "    </tr>\n",
       "    <tr>\n",
       "      <th>18</th>\n",
       "      <td>119</td>\n",
       "      <td>4.615121</td>\n",
       "      <td>4.499810</td>\n",
       "      <td>1.945910</td>\n",
       "    </tr>\n",
       "    <tr>\n",
       "      <th>19</th>\n",
       "      <td>120</td>\n",
       "      <td>4.477337</td>\n",
       "      <td>4.406719</td>\n",
       "      <td>1.791759</td>\n",
       "    </tr>\n",
       "    <tr>\n",
       "      <th>20</th>\n",
       "      <td>121</td>\n",
       "      <td>4.127134</td>\n",
       "      <td>4.110874</td>\n",
       "      <td>1.386294</td>\n",
       "    </tr>\n",
       "    <tr>\n",
       "      <th>21</th>\n",
       "      <td>122</td>\n",
       "      <td>3.912023</td>\n",
       "      <td>4.025352</td>\n",
       "      <td>1.098612</td>\n",
       "    </tr>\n",
       "    <tr>\n",
       "      <th>22</th>\n",
       "      <td>123</td>\n",
       "      <td>4.262680</td>\n",
       "      <td>4.158883</td>\n",
       "      <td>1.386294</td>\n",
       "    </tr>\n",
       "    <tr>\n",
       "      <th>23</th>\n",
       "      <td>124</td>\n",
       "      <td>4.564348</td>\n",
       "      <td>4.532599</td>\n",
       "      <td>1.945910</td>\n",
       "    </tr>\n",
       "    <tr>\n",
       "      <th>24</th>\n",
       "      <td>125</td>\n",
       "      <td>4.219508</td>\n",
       "      <td>4.094345</td>\n",
       "      <td>1.609438</td>\n",
       "    </tr>\n",
       "    <tr>\n",
       "      <th>25</th>\n",
       "      <td>126</td>\n",
       "      <td>4.304065</td>\n",
       "      <td>4.189655</td>\n",
       "      <td>1.098612</td>\n",
       "    </tr>\n",
       "    <tr>\n",
       "      <th>26</th>\n",
       "      <td>127</td>\n",
       "      <td>4.234107</td>\n",
       "      <td>4.204693</td>\n",
       "      <td>1.386294</td>\n",
       "    </tr>\n",
       "    <tr>\n",
       "      <th>27</th>\n",
       "      <td>128</td>\n",
       "      <td>4.553877</td>\n",
       "      <td>4.442651</td>\n",
       "      <td>1.791759</td>\n",
       "    </tr>\n",
       "    <tr>\n",
       "      <th>29</th>\n",
       "      <td>130</td>\n",
       "      <td>4.532599</td>\n",
       "      <td>4.564348</td>\n",
       "      <td>1.609438</td>\n",
       "    </tr>\n",
       "  </tbody>\n",
       "</table>\n",
       "</div>"
      ],
      "text/plain": [
       "    Student_ID  Math_Score  English_Score  Study_Hours\n",
       "0          101    4.369448       4.488636     1.791759\n",
       "1          102    4.454347       4.343805     1.386294\n",
       "2          103    4.574711       4.361733     1.945910\n",
       "3          104    3.828641       4.219508     1.098612\n",
       "4          105    4.204693       4.094345     1.609438\n",
       "5          106    4.363757       4.454347     1.791759\n",
       "6          107    4.499810       4.532599     1.945910\n",
       "8          109    4.290459       4.795791     1.386294\n",
       "9          110    4.189655       4.290459     1.609438\n",
       "10         111    4.488636       4.510860     1.791759\n",
       "11         112    4.382027       4.189655     1.098612\n",
       "12         113    4.521789       4.477337     1.386294\n",
       "13         114    4.025352       4.204693     1.609438\n",
       "14         115    4.143135       4.262680     1.609438\n",
       "15         116    4.077537       4.110874     1.386294\n",
       "16         117    4.442651       4.361733     1.098612\n",
       "17         118    4.510860       4.356709     1.609438\n",
       "18         119    4.615121       4.499810     1.945910\n",
       "19         120    4.477337       4.406719     1.791759\n",
       "20         121    4.127134       4.110874     1.386294\n",
       "21         122    3.912023       4.025352     1.098612\n",
       "22         123    4.262680       4.158883     1.386294\n",
       "23         124    4.564348       4.532599     1.945910\n",
       "24         125    4.219508       4.094345     1.609438\n",
       "25         126    4.304065       4.189655     1.098612\n",
       "26         127    4.234107       4.204693     1.386294\n",
       "27         128    4.553877       4.442651     1.791759\n",
       "29         130    4.532599       4.564348     1.609438"
      ]
     },
     "metadata": {},
     "output_type": "display_data"
    },
    {
     "data": {
      "image/png": "[encoded data removed]",
      "text/plain": [
       "<Figure size 640x480 with 1 Axes>"
      ]
     },
     "metadata": {},
     "output_type": "display_data"
    },
    {
     "name": "stdout",
     "output_type": "stream",
     "text": [
      "\n",
      "\n",
      "\n",
      "MinMax Normalization\n"
     ]
    },
    {
     "ename": "NameError",
     "evalue": "name 'StandardScaler' is not defined",
     "output_type": "error",
     "traceback": [
      "\u001b[31m---------------------------------------------------------------------------\u001b[39m",
      "\u001b[31mNameError\u001b[39m                                 Traceback (most recent call last)",
      "\u001b[36mCell\u001b[39m\u001b[36m \u001b[39m\u001b[32mIn[7]\u001b[39m\u001b[32m, line 20\u001b[39m\n\u001b[32m     18\u001b[39m min_max_df = new_df.copy()\n\u001b[32m     19\u001b[39m \u001b[38;5;28;01mfrom\u001b[39;00m\u001b[38;5;250m \u001b[39m\u001b[34;01msklearn\u001b[39;00m\u001b[34;01m.\u001b[39;00m\u001b[34;01mpreprocessing\u001b[39;00m\u001b[38;5;250m \u001b[39m\u001b[38;5;28;01mimport\u001b[39;00m MinMaxScaler\n\u001b[32m---> \u001b[39m\u001b[32m20\u001b[39m scaler = \u001b[43mStandardScaler\u001b[49m()\n\u001b[32m     21\u001b[39m min_max_df[cols] = scaler.fit_transform(min_max_df[cols])\n\u001b[32m     22\u001b[39m display(min_max_df) \u001b[38;5;66;03m# Normalized columns\u001b[39;00m\n",
      "\u001b[31mNameError\u001b[39m: name 'StandardScaler' is not defined"
     ]
    }
   ],
   "source": [
    "cols = ['Math_Score','English_Score','Study_Hours']\n",
    "\n",
    "# Normalization\n",
    "\n",
    "# Logarithmic normalization\n",
    "print(\"Logarithmic Normalization\")\n",
    "log_df = new_df.copy()\n",
    "log_df[cols] = np.log1p(log_df[cols])  # log1p handles 0 safely\n",
    "display(log_df) # Normalized columns\n",
    "log_df.boxplot(cols)\n",
    "plt.show()\n",
    "# Logarithmic normalization is used to reduce right-skewness in the data\n",
    "\n",
    "print(\"\\n\\n\")\n",
    "\n",
    "# MinMax normalzation\n",
    "print(\"MinMax Normalization\")\n",
    "min_max_df = new_df.copy()\n",
    "from sklearn.preprocessing import MinMaxScaler\n",
    "scaler = StandardScaler()\n",
    "min_max_df[cols] = scaler.fit_transform(min_max_df[cols])\n",
    "display(min_max_df) # Normalized columns\n",
    "min_max_df.boxplot(cols)\n",
    "plt.show()"
   ]
  },
  {
   "cell_type": "code",
   "execution_count": null,
   "id": "d90e82db-dfb0-4c4d-83ce-f76e831988ac",
   "metadata": {},
   "outputs": [],
   "source": []
  }
 ],
 "metadata": {
  "kernelspec": {
   "display_name": "Python (DSBDAL)",
   "language": "python",
   "name": "dsbdal_env"
  },
  "language_info": {
   "codemirror_mode": {
    "name": "ipython",
    "version": 3
   },
   "file_extension": ".py",
   "mimetype": "text/x-python",
   "name": "python",
   "nbconvert_exporter": "python",
   "pygments_lexer": "ipython3",
   "version": "3.13.1"
  }
 },
 "nbformat": 4,
 "nbformat_minor": 5
}
